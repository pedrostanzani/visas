{
 "cells": [
  {
   "cell_type": "code",
   "execution_count": 1,
   "id": "21ba182f-7c21-4da9-a71b-c39b429b46e0",
   "metadata": {},
   "outputs": [],
   "source": [
    "import json\n",
    "from bs4 import BeautifulSoup"
   ]
  },
  {
   "cell_type": "code",
   "execution_count": 2,
   "id": "c5370b9e-7b8d-47c3-ba07-1de0abac4c6e",
   "metadata": {},
   "outputs": [],
   "source": [
    "with open(\"./static/visa_requirements_by_citizenship.html\", \"r\") as file:\n",
    "    html = file.read()\n",
    "\n",
    "soup = BeautifulSoup(html, 'lxml')"
   ]
  },
  {
   "cell_type": "code",
   "execution_count": 3,
   "id": "a10b8599-24f3-4661-93ef-a30c05e26889",
   "metadata": {},
   "outputs": [],
   "source": [
    "a_tags = soup.find_all('a')\n",
    "a_tags = [tag for tag in a_tags if tag.get('href', '').startswith('/wiki/Visa_requirements')]\n",
    "\n",
    "links = []\n",
    "for a_tag in a_tags:\n",
    "    links.append({'demonym': a_tag.text, 'link': a_tag.get('href')})"
   ]
  },
  {
   "cell_type": "code",
   "execution_count": 4,
   "id": "aed93947-e1e3-4d59-8bf1-3396d8277aa6",
   "metadata": {},
   "outputs": [],
   "source": [
    "with open(\"../data/un-sovereign-countries.json\", \"r\") as file:\n",
    "    data = json.load(file)\n",
    "\n",
    "countries = [{'id': country['alpha2'], 'name': country['name'], 'link': None} for country in data]"
   ]
  },
  {
   "cell_type": "code",
   "execution_count": 5,
   "id": "8847e106-a17b-45ba-9e65-2ad5b1a68901",
   "metadata": {},
   "outputs": [
    {
     "data": {
      "text/plain": [
       "[{'id': 'af', 'name': 'Afghanistan', 'link': None},\n",
       " {'id': 'al', 'name': 'Albania', 'link': None},\n",
       " {'id': 'dz', 'name': 'Algeria', 'link': None}]"
      ]
     },
     "execution_count": 5,
     "metadata": {},
     "output_type": "execute_result"
    }
   ],
   "source": [
    "countries[0:3]"
   ]
  },
  {
   "cell_type": "markdown",
   "id": "262360e2-3c68-457a-ae09-3322de7186ed",
   "metadata": {},
   "source": [
    "The HTML table was scraped from the \"Visa Requirements for Brazilian citizens\" page. \n",
    "\n",
    "Let's include Brazil's link manually, since a self-link will not be included in the `a_tags`."
   ]
  },
  {
   "cell_type": "code",
   "execution_count": 6,
   "id": "e6723f87-965f-4c51-9f4f-0be5fd48b613",
   "metadata": {},
   "outputs": [],
   "source": [
    "def find_country_index(countries, country_id):\n",
    "    for index, country in enumerate(countries):\n",
    "        if country['id'] == country_id:\n",
    "            return index\n",
    "    return -1  # Return -1 if the country_id is not found"
   ]
  },
  {
   "cell_type": "code",
   "execution_count": 7,
   "id": "36fa16fa-402e-4bf1-b794-df1f97136ce9",
   "metadata": {},
   "outputs": [],
   "source": [
    "idx = find_country_index(countries, \"br\")\n",
    "countries[idx]['link'] = \"https://en.wikipedia.org/wiki/Visa_requirements_for_Brazilian_citizens\""
   ]
  },
  {
   "cell_type": "code",
   "execution_count": 8,
   "id": "4bf0ea6f-70ee-4ff6-aedb-10b54f8111b6",
   "metadata": {},
   "outputs": [
    {
     "data": {
      "text/plain": [
       "{'id': 'br',\n",
       " 'name': 'Brazil',\n",
       " 'link': 'https://en.wikipedia.org/wiki/Visa_requirements_for_Brazilian_citizens'}"
      ]
     },
     "execution_count": 8,
     "metadata": {},
     "output_type": "execute_result"
    }
   ],
   "source": [
    "countries[idx]"
   ]
  },
  {
   "cell_type": "markdown",
   "id": "b6ac2127-3bb2-48f0-9c27-beff7420da31",
   "metadata": {},
   "source": [
    "### Use OpenAI's API to match each link with a sovereign country"
   ]
  },
  {
   "cell_type": "code",
   "execution_count": 9,
   "id": "9fa6f27f-0e86-47e8-992a-5e621a3d4c25",
   "metadata": {},
   "outputs": [],
   "source": [
    "BASE_URL = 'https://en.wikipedia.org'"
   ]
  },
  {
   "cell_type": "code",
   "execution_count": 10,
   "id": "452cd913-ddae-40ef-919a-2cc089660ff9",
   "metadata": {},
   "outputs": [],
   "source": [
    "from openai import OpenAI\n",
    "from dotenv import load_dotenv\n",
    "\n",
    "load_dotenv()\n",
    "\n",
    "client = OpenAI()"
   ]
  },
  {
   "cell_type": "code",
   "execution_count": 11,
   "id": "3daa63ef-db5a-4847-abb4-ac54a1da330d",
   "metadata": {},
   "outputs": [],
   "source": [
    "def match_country(country: str):\n",
    "    prompt = \"You must only answer in JSON objects. You will receive the name of a country, territory or demonym. You must return a JSON object with this structure: { 'is_sovereign': boolean; 'country': 'XX' | null } where 'XX' is the alpha2 code of the country. If the territory provided is not a sovereign member of the United Nations (i.e.: Puerto Rico, Hong Kong, Taiwan), you must return null for the 'country' key.\\n\\nThese are the only possible country codes for UN Recognized Countries: \" + ','.join([c['id'] for c in countries])\n",
    "    prompt += \"\\n\\nDo not include three backticks in your response to specify the return format. Instead, just return raw JSON content.\"\n",
    "    \n",
    "    completion = client.chat.completions.create(model=\"gpt-4o-mini\",\n",
    "        messages=[\n",
    "            {\"role\": \"system\", \"content\": prompt},\n",
    "            {\n",
    "              \"role\": \"user\",\n",
    "              \"content\": f\"Country/demonym: {country}\"\n",
    "            }\n",
    "        ]\n",
    "    )\n",
    "\n",
    "    return completion"
   ]
  },
  {
   "cell_type": "code",
   "execution_count": 15,
   "id": "afff46ac-e5e3-4639-99d5-38b8dda8f158",
   "metadata": {},
   "outputs": [
    {
     "name": "stdout",
     "output_type": "stream",
     "text": [
      "[Not sovereign] Skipping country: Saint Helena\n",
      "[Not sovereign] Skipping country: Somaliland\n",
      "[Not sovereign] Skipping country: Anguillan\n",
      "[Not sovereign] Skipping country: Bermudian\n",
      "[Not sovereign] Skipping country: British Virgin Islands\n",
      "[Not sovereign] Skipping country: Caymanian\n",
      "[Not sovereign] Skipping country: Greenlandic\n",
      "[Not sovereign] Skipping country: Montserratian\n",
      "[Not sovereign] Skipping country: Turks and Caicos Islands\n",
      "[Not sovereign] Skipping country: Abkhaz\n",
      "[Not sovereign] Skipping country: Hong Kongese\n",
      "[Not sovereign] Skipping country: Macanese\n",
      "[Not sovereign] Skipping country: Northern Cypriot\n",
      "[Not sovereign] Skipping country: Palestinian\n",
      "[Not sovereign] Skipping country: South Ossetian\n",
      "[Not sovereign] Skipping country: Taiwanese\n",
      "[Not sovereign] Skipping country: Abkhaz\n",
      "[Not sovereign] Skipping country: BOTC\n",
      "[Not sovereign] Skipping country: BN(O)\n",
      "[Not sovereign] Skipping country: BOC\n",
      "[Not sovereign] Skipping country: Faroese\n",
      "[Not sovereign] Skipping country: Greenlandic\n",
      "[Not sovereign] Skipping country: Non-citizens\n",
      "[Not sovereign] Skipping country: EU\n",
      "Country code not found: xk - Kosovar\n",
      "[Not sovereign] Skipping country: Non-citizens\n",
      "[Not sovereign] Skipping country: Northern Cypriot\n",
      "[Not sovereign] Skipping country: South Ossetian\n",
      "[Not sovereign] Skipping country: Transnistrian\n",
      "Country code not found: va - Vatican City\n",
      "[Not sovereign] Skipping country: Pitcairn Islands\n",
      "[Not sovereign] Skipping country: Crew members\n"
     ]
    }
   ],
   "source": [
    "for link_dict in links:\n",
    "    demonym = link_dict['demonym']\n",
    "    link = link_dict['link']\n",
    "\n",
    "    try:\n",
    "        completion = match_country(demonym)\n",
    "        completion_content = json.loads(completion.choices[0].message.content)\n",
    "    except json.JSONDecodeError:\n",
    "        print(f\"Failed to decode completion. Content: {completion.choices[0].message.content}\")\n",
    "        print(\"Skipping...\")\n",
    "        continue\n",
    "    \n",
    "    if not completion_content['is_sovereign']:\n",
    "        print(f\"[Not sovereign] Skipping country: {demonym}\")\n",
    "        continue\n",
    "\n",
    "    country_code = completion_content['country']\n",
    "    if not country_code:\n",
    "        print(f\"[No country code] Skipping country: {demonym}\")\n",
    "        continue\n",
    "    \n",
    "    country_code = country_code.lower()\n",
    "    idx = find_country_index(countries, country_code)\n",
    "    if idx == -1:\n",
    "        print(f\"Country code not found: {country_code} - {demonym}\")\n",
    "        continue\n",
    "    \n",
    "    countries[idx]['link'] = f\"{BASE_URL}{link}\""
   ]
  },
  {
   "cell_type": "code",
   "execution_count": 18,
   "id": "9875c203-cd0f-411d-939d-e6f966aa1ad6",
   "metadata": {},
   "outputs": [
    {
     "data": {
      "text/plain": [
       "[{'id': 'af',\n",
       "  'name': 'Afghanistan',\n",
       "  'link': 'https://en.wikipedia.org/wiki/Visa_requirements_for_Afghan_citizens'},\n",
       " {'id': 'al',\n",
       "  'name': 'Albania',\n",
       "  'link': 'https://en.wikipedia.org/wiki/Visa_requirements_for_Albanian_citizens'},\n",
       " {'id': 'dz',\n",
       "  'name': 'Algeria',\n",
       "  'link': 'https://en.wikipedia.org/wiki/Visa_requirements_for_Algerian_citizens'}]"
      ]
     },
     "execution_count": 18,
     "metadata": {},
     "output_type": "execute_result"
    }
   ],
   "source": [
    "countries[0:3]"
   ]
  },
  {
   "cell_type": "code",
   "execution_count": 20,
   "id": "67e2757d-aa80-4425-9b77-5290f6c092fe",
   "metadata": {},
   "outputs": [],
   "source": [
    "with open(\"../data/scraping-links.json\", \"w\") as file:\n",
    "    file.write(json.dumps(countries))"
   ]
  },
  {
   "cell_type": "markdown",
   "id": "0af2b121-1c8b-4f51-9522-5b227a6050f5",
   "metadata": {},
   "source": [
    "Manually adjust repeated links in the output file (in case there are any):"
   ]
  },
  {
   "cell_type": "code",
   "execution_count": 24,
   "id": "02f6d71f-78f3-400a-843c-247ae8197179",
   "metadata": {},
   "outputs": [
    {
     "data": {
      "text/plain": [
       "{'https://en.wikipedia.org/wiki/Visa_requirements_for_Republic_of_the_Congo_citizens'}"
      ]
     },
     "execution_count": 24,
     "metadata": {},
     "output_type": "execute_result"
    }
   ],
   "source": [
    "links = [item['link'] for item in countries]\n",
    "\n",
    "repeated_links = set([link for link in links if links.count(link) > 1])\n",
    "repeated_links"
   ]
  }
 ],
 "metadata": {
  "kernelspec": {
   "display_name": "Python 3 (ipykernel)",
   "language": "python",
   "name": "python3"
  },
  "language_info": {
   "codemirror_mode": {
    "name": "ipython",
    "version": 3
   },
   "file_extension": ".py",
   "mimetype": "text/x-python",
   "name": "python",
   "nbconvert_exporter": "python",
   "pygments_lexer": "ipython3",
   "version": "3.12.4"
  }
 },
 "nbformat": 4,
 "nbformat_minor": 5
}

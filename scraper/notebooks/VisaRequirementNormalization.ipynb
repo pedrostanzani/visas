{
 "cells": [
  {
   "cell_type": "code",
   "execution_count": 5,
   "id": "ba8a93a7-bd14-48cf-bcd9-c1e01655024d",
   "metadata": {},
   "outputs": [],
   "source": [
    "import pandas as pd"
   ]
  },
  {
   "cell_type": "code",
   "execution_count": 6,
   "id": "d1d3a12d-4bc3-4d61-b6f3-1e843dc3d849",
   "metadata": {},
   "outputs": [],
   "source": [
    "df = pd.read_json('../output/dataset.json')"
   ]
  },
  {
   "cell_type": "code",
   "execution_count": 12,
   "id": "ea33c33a-d95e-42aa-9797-9bf5df09e0ef",
   "metadata": {},
   "outputs": [
    {
     "data": {
      "text/plain": [
       "visa_requirement\n",
       "visa required                      14301\n",
       "visa not required                  11587\n",
       "evisa                               4238\n",
       "visa on arrival                     2819\n",
       "evisa / visa on arrival             1760\n",
       "free visa on arrival                 361\n",
       "freedom of movement                  329\n",
       "electronic travel authorisation      150\n",
       "online visa / visa on arrival        135\n",
       "online visa                          119\n",
       "Name: count, dtype: int64"
      ]
     },
     "execution_count": 12,
     "metadata": {},
     "output_type": "execute_result"
    }
   ],
   "source": [
    "df.visa_requirement.value_counts().head(10)"
   ]
  },
  {
   "cell_type": "code",
   "execution_count": 11,
   "id": "a254a050-a4aa-4cc4-a8c7-39e77a6eaad4",
   "metadata": {},
   "outputs": [
    {
     "data": {
      "text/plain": [
       "visa_requirement\n",
       "visa not required                  99\n",
       "visa required                      24\n",
       "evisa                              23\n",
       "evisa / visa on arrival            13\n",
       "visa on arrival                    12\n",
       "freedom of movement                 8\n",
       "free visa on arrival                3\n",
       "free entry permit on arrival        1\n",
       "visa not required / evisa           1\n",
       "electronic travel authority         1\n",
       "online visa / visa on arrival       1\n",
       "electronic visa                     1\n",
       "electronic travel authorization     1\n",
       "electronic travel authorisation     1\n",
       "e-voa / visa on arrival             1\n",
       "online visa required                1\n",
       "visitor's permit on arrival         1\n",
       "Name: count, dtype: int64"
      ]
     },
     "execution_count": 11,
     "metadata": {},
     "output_type": "execute_result"
    }
   ],
   "source": [
    "df.loc[df.country_of_citizenship == 'br'].visa_requirement.value_counts()"
   ]
  },
  {
   "cell_type": "code",
   "execution_count": null,
   "id": "3a5ad59c-9b03-4c71-a4b8-7a2566ad44e0",
   "metadata": {},
   "outputs": [],
   "source": []
  }
 ],
 "metadata": {
  "kernelspec": {
   "display_name": "Python 3 (ipykernel)",
   "language": "python",
   "name": "python3"
  },
  "language_info": {
   "codemirror_mode": {
    "name": "ipython",
    "version": 3
   },
   "file_extension": ".py",
   "mimetype": "text/x-python",
   "name": "python",
   "nbconvert_exporter": "python",
   "pygments_lexer": "ipython3",
   "version": "3.12.4"
  }
 },
 "nbformat": 4,
 "nbformat_minor": 5
}
